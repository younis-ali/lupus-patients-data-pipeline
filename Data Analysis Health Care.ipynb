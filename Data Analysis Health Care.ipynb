{
 "cells": [
  {
   "cell_type": "markdown",
   "id": "50041b1d-22c5-47b8-98bb-3319852f3750",
   "metadata": {
    "jp-MarkdownHeadingCollapsed": true
   },
   "source": [
    "# Install Dependencies"
   ]
  },
  {
   "cell_type": "code",
   "execution_count": 2,
   "id": "04b2572a-40f6-466e-8a1e-4a039ebe8027",
   "metadata": {},
   "outputs": [
    {
     "name": "stdout",
     "output_type": "stream",
     "text": [
      "/home/younis/century-health\n"
     ]
    }
   ],
   "source": [
    "!pwd"
   ]
  },
  {
   "cell_type": "code",
   "execution_count": 63,
   "id": "3ae244f5-8b7c-419f-bc6c-9875bff19837",
   "metadata": {},
   "outputs": [
    {
     "name": "stdout",
     "output_type": "stream",
     "text": [
      "Collecting matplotlib\n",
      "  Downloading matplotlib-3.8.3-cp310-cp310-manylinux_2_17_x86_64.manylinux2014_x86_64.whl.metadata (5.8 kB)\n",
      "Collecting contourpy>=1.0.1 (from matplotlib)\n",
      "  Downloading contourpy-1.2.0-cp310-cp310-manylinux_2_17_x86_64.manylinux2014_x86_64.whl.metadata (5.8 kB)\n",
      "Collecting cycler>=0.10 (from matplotlib)\n",
      "  Downloading cycler-0.12.1-py3-none-any.whl.metadata (3.8 kB)\n",
      "Collecting fonttools>=4.22.0 (from matplotlib)\n",
      "  Downloading fonttools-4.50.0-cp310-cp310-manylinux_2_17_x86_64.manylinux2014_x86_64.whl.metadata (159 kB)\n",
      "\u001b[2K     \u001b[38;2;114;156;31m━━━━━━━━━━━━━━━━━━━━━━━━━━━━━━━━━━━━━━━\u001b[0m \u001b[32m159.4/159.4 kB\u001b[0m \u001b[31m2.2 MB/s\u001b[0m eta \u001b[36m0:00:00\u001b[0m MB/s\u001b[0m eta \u001b[36m0:00:01\u001b[0m\n",
      "\u001b[?25hCollecting kiwisolver>=1.3.1 (from matplotlib)\n",
      "  Downloading kiwisolver-1.4.5-cp310-cp310-manylinux_2_12_x86_64.manylinux2010_x86_64.whl.metadata (6.4 kB)\n",
      "Requirement already satisfied: numpy<2,>=1.21 in ./.venv/lib/python3.10/site-packages (from matplotlib) (1.26.4)\n",
      "Requirement already satisfied: packaging>=20.0 in ./.venv/lib/python3.10/site-packages (from matplotlib) (24.0)\n",
      "Collecting pillow>=8 (from matplotlib)\n",
      "  Using cached pillow-10.2.0-cp310-cp310-manylinux_2_28_x86_64.whl.metadata (9.7 kB)\n",
      "Requirement already satisfied: pyparsing>=2.3.1 in ./.venv/lib/python3.10/site-packages (from matplotlib) (3.1.2)\n",
      "Requirement already satisfied: python-dateutil>=2.7 in ./.venv/lib/python3.10/site-packages (from matplotlib) (2.9.0.post0)\n",
      "Requirement already satisfied: six>=1.5 in ./.venv/lib/python3.10/site-packages (from python-dateutil>=2.7->matplotlib) (1.16.0)\n",
      "Downloading matplotlib-3.8.3-cp310-cp310-manylinux_2_17_x86_64.manylinux2014_x86_64.whl (11.6 MB)\n",
      "\u001b[2K   \u001b[38;2;114;156;31m━━━━━━━━━━━━━━━━━━━━━━━━━━━━━━━━━━━━━━━━\u001b[0m \u001b[32m11.6/11.6 MB\u001b[0m \u001b[31m4.7 MB/s\u001b[0m eta \u001b[36m0:00:00\u001b[0mm eta \u001b[36m0:00:01\u001b[0m0:01\u001b[0m:01\u001b[0m\n",
      "\u001b[?25hDownloading contourpy-1.2.0-cp310-cp310-manylinux_2_17_x86_64.manylinux2014_x86_64.whl (310 kB)\n",
      "\u001b[2K   \u001b[38;2;114;156;31m━━━━━━━━━━━━━━━━━━━━━━━━━━━━━━━━━━━━━━━━\u001b[0m \u001b[32m310.7/310.7 kB\u001b[0m \u001b[31m5.1 MB/s\u001b[0m eta \u001b[36m0:00:00\u001b[0m MB/s\u001b[0m eta \u001b[36m0:00:01\u001b[0m\n",
      "\u001b[?25hDownloading cycler-0.12.1-py3-none-any.whl (8.3 kB)\n",
      "Downloading fonttools-4.50.0-cp310-cp310-manylinux_2_17_x86_64.manylinux2014_x86_64.whl (4.6 MB)\n",
      "\u001b[2K   \u001b[38;2;114;156;31m━━━━━━━━━━━━━━━━━━━━━━━━━━━━━━━━━━━━━━━━\u001b[0m \u001b[32m4.6/4.6 MB\u001b[0m \u001b[31m6.5 MB/s\u001b[0m eta \u001b[36m0:00:00\u001b[0mm eta \u001b[36m0:00:01\u001b[0m[36m0:00:01\u001b[0m\n",
      "\u001b[?25hDownloading kiwisolver-1.4.5-cp310-cp310-manylinux_2_12_x86_64.manylinux2010_x86_64.whl (1.6 MB)\n",
      "\u001b[2K   \u001b[38;2;114;156;31m━━━━━━━━━━━━━━━━━━━━━━━━━━━━━━━━━━━━━━━━\u001b[0m \u001b[32m1.6/1.6 MB\u001b[0m \u001b[31m6.5 MB/s\u001b[0m eta \u001b[36m0:00:00\u001b[0mm eta \u001b[36m0:00:01\u001b[0m0:01\u001b[0m:01\u001b[0m\n",
      "\u001b[?25hUsing cached pillow-10.2.0-cp310-cp310-manylinux_2_28_x86_64.whl (4.5 MB)\n",
      "Installing collected packages: pillow, kiwisolver, fonttools, cycler, contourpy, matplotlib\n",
      "Successfully installed contourpy-1.2.0 cycler-0.12.1 fonttools-4.50.0 kiwisolver-1.4.5 matplotlib-3.8.3 pillow-10.2.0\n"
     ]
    }
   ],
   "source": [
    "!pip install pandas\n",
    "!pip install great_expectations\n",
    "!pip install pyarrow\n",
    "!pip install fastparquet\n",
    "!pip install matplotlib"
   ]
  },
  {
   "cell_type": "markdown",
   "id": "c0760114-c2d3-4578-85d8-72c2813bbc3f",
   "metadata": {},
   "source": [
    "# Data Assessment"
   ]
  },
  {
   "cell_type": "markdown",
   "id": "f6c6b0f3-9593-4979-a033-084abba81071",
   "metadata": {},
   "source": [
    "## Read data"
   ]
  },
  {
   "cell_type": "code",
   "execution_count": 6,
   "id": "d54f52b5-4271-48f0-bc1e-2ee4d7e97e59",
   "metadata": {},
   "outputs": [
    {
     "name": "stdout",
     "output_type": "stream",
     "text": [
      "conditions.xlsx     medications.csv  symptoms.csv\n",
      "encounters.parquet  patients.csv\n"
     ]
    }
   ],
   "source": [
    "!ls data/"
   ]
  },
  {
   "cell_type": "code",
   "execution_count": 1,
   "id": "b9a13075-8eee-4ae6-8c9a-db22b679b2bb",
   "metadata": {},
   "outputs": [],
   "source": [
    "import great_expectations as gx"
   ]
  },
  {
   "cell_type": "code",
   "execution_count": 3,
   "id": "456359f7-e972-4348-8e71-468b3f6efe36",
   "metadata": {},
   "outputs": [
    {
     "data": {
      "text/html": [
       "<div>\n",
       "<style scoped>\n",
       "    .dataframe tbody tr th:only-of-type {\n",
       "        vertical-align: middle;\n",
       "    }\n",
       "\n",
       "    .dataframe tbody tr th {\n",
       "        vertical-align: top;\n",
       "    }\n",
       "\n",
       "    .dataframe thead th {\n",
       "        text-align: right;\n",
       "    }\n",
       "</style>\n",
       "<table border=\"1\" class=\"dataframe\">\n",
       "  <thead>\n",
       "    <tr style=\"text-align: right;\">\n",
       "      <th></th>\n",
       "      <th>PATIENT_ID</th>\n",
       "      <th>BIRTHDATE</th>\n",
       "      <th>DEATHDATE</th>\n",
       "      <th>SSN</th>\n",
       "      <th>DRIVERS</th>\n",
       "      <th>PASSPORT</th>\n",
       "      <th>PREFIX</th>\n",
       "      <th>FIRST</th>\n",
       "      <th>LAST</th>\n",
       "      <th>SUFFIX</th>\n",
       "      <th>...</th>\n",
       "      <th>CITY</th>\n",
       "      <th>STATE</th>\n",
       "      <th>COUNTY</th>\n",
       "      <th>FIPS</th>\n",
       "      <th>ZIP</th>\n",
       "      <th>LAT</th>\n",
       "      <th>LON</th>\n",
       "      <th>HEALTHCARE_EXPENSES</th>\n",
       "      <th>HEALTHCARE_COVERAGE</th>\n",
       "      <th>INCOME</th>\n",
       "    </tr>\n",
       "  </thead>\n",
       "  <tbody>\n",
       "    <tr>\n",
       "      <th>0</th>\n",
       "      <td>54f1059e-6250-3949-6dd0-1dda9b85d22a</td>\n",
       "      <td>2002-01-21</td>\n",
       "      <td>NaN</td>\n",
       "      <td>999-28-3364</td>\n",
       "      <td>S99987398</td>\n",
       "      <td>X44428214X</td>\n",
       "      <td>Ms.</td>\n",
       "      <td>Fredricka415</td>\n",
       "      <td>Crist667</td>\n",
       "      <td>NaN</td>\n",
       "      <td>...</td>\n",
       "      <td>Fort Worth</td>\n",
       "      <td>Texas</td>\n",
       "      <td>Tarrant County</td>\n",
       "      <td>48439.0</td>\n",
       "      <td>76104</td>\n",
       "      <td>0.329154</td>\n",
       "      <td>-97.399553</td>\n",
       "      <td>9990.08</td>\n",
       "      <td>0.0</td>\n",
       "      <td>35460</td>\n",
       "    </tr>\n",
       "    <tr>\n",
       "      <th>1</th>\n",
       "      <td>92675303-ca5b-136a-169b-e764c5753f06</td>\n",
       "      <td>1997-04-16</td>\n",
       "      <td>NaN</td>\n",
       "      <td>999-62-9859</td>\n",
       "      <td>S99999770</td>\n",
       "      <td>X75016560X</td>\n",
       "      <td>Mr.</td>\n",
       "      <td>Lorenzo669</td>\n",
       "      <td>Urrutia540</td>\n",
       "      <td>NaN</td>\n",
       "      <td>...</td>\n",
       "      <td>Arlington</td>\n",
       "      <td>Texas</td>\n",
       "      <td>Tarrant County</td>\n",
       "      <td>48439.0</td>\n",
       "      <td>76006</td>\n",
       "      <td>0.328145</td>\n",
       "      <td>-97.068885</td>\n",
       "      <td>10936.80</td>\n",
       "      <td>0.0</td>\n",
       "      <td>88407</td>\n",
       "    </tr>\n",
       "    <tr>\n",
       "      <th>2</th>\n",
       "      <td>a0b63e97-b6fd-5fe1-8f2d-2bec915efa97</td>\n",
       "      <td>1993-02-04</td>\n",
       "      <td>NaN</td>\n",
       "      <td>999-53-6488</td>\n",
       "      <td>S99979170</td>\n",
       "      <td>X60079936X</td>\n",
       "      <td>Mr.</td>\n",
       "      <td>Luther918</td>\n",
       "      <td>MacGyver246</td>\n",
       "      <td>NaN</td>\n",
       "      <td>...</td>\n",
       "      <td>Houston</td>\n",
       "      <td>Texas</td>\n",
       "      <td>Harris County</td>\n",
       "      <td>48339.0</td>\n",
       "      <td>77357</td>\n",
       "      <td>0.300834</td>\n",
       "      <td>-95.649706</td>\n",
       "      <td>10662.16</td>\n",
       "      <td>0.0</td>\n",
       "      <td>41800</td>\n",
       "    </tr>\n",
       "  </tbody>\n",
       "</table>\n",
       "<p>3 rows × 27 columns</p>\n",
       "</div>"
      ],
      "text/plain": [
       "                             PATIENT_ID   BIRTHDATE  DEATHDATE          SSN  \\\n",
       "0  54f1059e-6250-3949-6dd0-1dda9b85d22a  2002-01-21        NaN  999-28-3364   \n",
       "1  92675303-ca5b-136a-169b-e764c5753f06  1997-04-16        NaN  999-62-9859   \n",
       "2  a0b63e97-b6fd-5fe1-8f2d-2bec915efa97  1993-02-04        NaN  999-53-6488   \n",
       "\n",
       "     DRIVERS    PASSPORT PREFIX         FIRST         LAST SUFFIX  ...  \\\n",
       "0  S99987398  X44428214X    Ms.  Fredricka415     Crist667    NaN  ...   \n",
       "1  S99999770  X75016560X    Mr.    Lorenzo669   Urrutia540    NaN  ...   \n",
       "2  S99979170  X60079936X    Mr.     Luther918  MacGyver246    NaN  ...   \n",
       "\n",
       "         CITY  STATE          COUNTY     FIPS    ZIP       LAT        LON  \\\n",
       "0  Fort Worth  Texas  Tarrant County  48439.0  76104  0.329154 -97.399553   \n",
       "1   Arlington  Texas  Tarrant County  48439.0  76006  0.328145 -97.068885   \n",
       "2     Houston  Texas   Harris County  48339.0  77357  0.300834 -95.649706   \n",
       "\n",
       "  HEALTHCARE_EXPENSES HEALTHCARE_COVERAGE INCOME  \n",
       "0             9990.08                 0.0  35460  \n",
       "1            10936.80                 0.0  88407  \n",
       "2            10662.16                 0.0  41800  \n",
       "\n",
       "[3 rows x 27 columns]"
      ]
     },
     "execution_count": 3,
     "metadata": {},
     "output_type": "execute_result"
    }
   ],
   "source": [
    "df_patients = gx.read_csv(\"airflow/data/patients.csv\")\n",
    "df_patients.head(3)"
   ]
  },
  {
   "cell_type": "code",
   "execution_count": 7,
   "id": "87c32e37-3992-40d5-b87c-1b158079883b",
   "metadata": {},
   "outputs": [
    {
     "data": {
      "text/plain": [
       "Index(['PATIENT_ID', 'BIRTHDATE', 'DEATHDATE', 'SSN', 'DRIVERS', 'PASSPORT',\n",
       "       'PREFIX', 'FIRST', 'LAST', 'SUFFIX', 'MAIDEN', 'MARITAL', 'RACE',\n",
       "       'ETHNICITY', 'GENDER', 'BIRTHPLACE', 'ADDRESS', 'CITY', 'STATE',\n",
       "       'COUNTY', 'FIPS', 'ZIP', 'LAT', 'LON', 'HEALTHCARE_EXPENSES',\n",
       "       'HEALTHCARE_COVERAGE', 'INCOME'],\n",
       "      dtype='object')"
      ]
     },
     "execution_count": 7,
     "metadata": {},
     "output_type": "execute_result"
    }
   ],
   "source": [
    "df_patients.columns"
   ]
  },
  {
   "cell_type": "code",
   "execution_count": 35,
   "id": "b9919867-82a5-46a7-860e-be6c27690c35",
   "metadata": {},
   "outputs": [
    {
     "data": {
      "text/html": [
       "<div>\n",
       "<style scoped>\n",
       "    .dataframe tbody tr th:only-of-type {\n",
       "        vertical-align: middle;\n",
       "    }\n",
       "\n",
       "    .dataframe tbody tr th {\n",
       "        vertical-align: top;\n",
       "    }\n",
       "\n",
       "    .dataframe thead th {\n",
       "        text-align: right;\n",
       "    }\n",
       "</style>\n",
       "<table border=\"1\" class=\"dataframe\">\n",
       "  <thead>\n",
       "    <tr style=\"text-align: right;\">\n",
       "      <th></th>\n",
       "      <th>START</th>\n",
       "      <th>STOP</th>\n",
       "      <th>PATIENT</th>\n",
       "      <th>ENCOUNTER</th>\n",
       "      <th>CODE</th>\n",
       "      <th>DESCRIPTION</th>\n",
       "    </tr>\n",
       "  </thead>\n",
       "  <tbody>\n",
       "    <tr>\n",
       "      <th>0</th>\n",
       "      <td>2020-04-21</td>\n",
       "      <td>NaN</td>\n",
       "      <td>28D7B56C-6056-D0A2-2991-39D6E917216C</td>\n",
       "      <td>402dfaeb-1888-f562-4651-f75203eb1e28</td>\n",
       "      <td>200936003</td>\n",
       "      <td>Lupus erythematosus</td>\n",
       "    </tr>\n",
       "    <tr>\n",
       "      <th>1</th>\n",
       "      <td>2001-11-07</td>\n",
       "      <td>NaN</td>\n",
       "      <td>239AE86A-96DB-6211-9042-D3F2850AABB8</td>\n",
       "      <td>10d39d6f-7d98-8d03-8866-0a7cd363890b</td>\n",
       "      <td>200936003</td>\n",
       "      <td>Lupus erythematosus</td>\n",
       "    </tr>\n",
       "    <tr>\n",
       "      <th>2</th>\n",
       "      <td>2001-11-07</td>\n",
       "      <td>NaN</td>\n",
       "      <td>239AE86A-96DB-6211-9042-D3F2850AABB8</td>\n",
       "      <td>10d39d6f-7d98-8d03-8866-0a7cd363890b</td>\n",
       "      <td>271737000</td>\n",
       "      <td>Anemia (disorder)</td>\n",
       "    </tr>\n",
       "  </tbody>\n",
       "</table>\n",
       "</div>"
      ],
      "text/plain": [
       "        START  STOP                               PATIENT  \\\n",
       "0  2020-04-21   NaN  28D7B56C-6056-D0A2-2991-39D6E917216C   \n",
       "1  2001-11-07   NaN  239AE86A-96DB-6211-9042-D3F2850AABB8   \n",
       "2  2001-11-07   NaN  239AE86A-96DB-6211-9042-D3F2850AABB8   \n",
       "\n",
       "                              ENCOUNTER       CODE          DESCRIPTION  \n",
       "0  402dfaeb-1888-f562-4651-f75203eb1e28  200936003  Lupus erythematosus  \n",
       "1  10d39d6f-7d98-8d03-8866-0a7cd363890b  200936003  Lupus erythematosus  \n",
       "2  10d39d6f-7d98-8d03-8866-0a7cd363890b  271737000    Anemia (disorder)  "
      ]
     },
     "execution_count": 35,
     "metadata": {},
     "output_type": "execute_result"
    }
   ],
   "source": [
    "df_conditions = gx.read_excel(\"airflow/data/conditions.xlsx\")\n",
    "df_conditions.head(3)"
   ]
  },
  {
   "cell_type": "code",
   "execution_count": 19,
   "id": "56018b7d-cde9-4e3f-a1b4-d765fcb3f585",
   "metadata": {},
   "outputs": [
    {
     "data": {
      "text/plain": [
       "Index(['START', 'STOP', 'PATIENT', 'ENCOUNTER', 'CODE', 'DESCRIPTION'], dtype='object')"
      ]
     },
     "execution_count": 19,
     "metadata": {},
     "output_type": "execute_result"
    }
   ],
   "source": [
    "df_conditions.columns"
   ]
  },
  {
   "cell_type": "code",
   "execution_count": 4,
   "id": "b90a766f-5049-407c-9fcf-bdcea4ad202d",
   "metadata": {},
   "outputs": [
    {
     "data": {
      "text/html": [
       "<div>\n",
       "<style scoped>\n",
       "    .dataframe tbody tr th:only-of-type {\n",
       "        vertical-align: middle;\n",
       "    }\n",
       "\n",
       "    .dataframe tbody tr th {\n",
       "        vertical-align: top;\n",
       "    }\n",
       "\n",
       "    .dataframe thead th {\n",
       "        text-align: right;\n",
       "    }\n",
       "</style>\n",
       "<table border=\"1\" class=\"dataframe\">\n",
       "  <thead>\n",
       "    <tr style=\"text-align: right;\">\n",
       "      <th></th>\n",
       "      <th>Id</th>\n",
       "      <th>START</th>\n",
       "      <th>STOP</th>\n",
       "      <th>PATIENT</th>\n",
       "      <th>ORGANIZATION</th>\n",
       "      <th>PROVIDER</th>\n",
       "      <th>PAYER</th>\n",
       "      <th>ENCOUNTERCLASS</th>\n",
       "      <th>CODE</th>\n",
       "      <th>DESCRIPTION</th>\n",
       "      <th>BASE_ENCOUNTER_COST</th>\n",
       "      <th>TOTAL_CLAIM_COST</th>\n",
       "      <th>PAYER_COVERAGE</th>\n",
       "      <th>REASONCODE</th>\n",
       "      <th>REASONDESCRIPTION</th>\n",
       "    </tr>\n",
       "  </thead>\n",
       "  <tbody>\n",
       "    <tr>\n",
       "      <th>0</th>\n",
       "      <td>6539c675-dcf2-cace-a90d-7f097d1799b3</td>\n",
       "      <td>2014-02-10T11:00:08Z</td>\n",
       "      <td>2014-02-10T11:15:08Z</td>\n",
       "      <td>54F1059E-6250-3949-6DD0-1DDA9B85D22A</td>\n",
       "      <td>ef42ec52-a1c1-3fc5-8e52-da46f7f3970c</td>\n",
       "      <td>35088bec-f756-35d8-8140-b2b017c0eacc</td>\n",
       "      <td>8fa6c185-e44e-3e34-8bd8-39be8694f4ce</td>\n",
       "      <td>wellness</td>\n",
       "      <td>410620009</td>\n",
       "      <td>Well child visit (procedure)</td>\n",
       "      <td>133.36</td>\n",
       "      <td>405.36</td>\n",
       "      <td>0.0</td>\n",
       "      <td>NaN</td>\n",
       "      <td>None</td>\n",
       "    </tr>\n",
       "    <tr>\n",
       "      <th>1</th>\n",
       "      <td>748a443c-9819-4f3a-8648-0096ace6d3fd</td>\n",
       "      <td>2014-06-04T05:19:43Z</td>\n",
       "      <td>2014-06-04T05:34:43Z</td>\n",
       "      <td>92675303-CA5B-136A-169B-E764C5753F06</td>\n",
       "      <td>02078b23-a943-3175-b5f0-8d386dd8eb56</td>\n",
       "      <td>af22b73b-d38f-3d92-8a95-bd57ac2dc3f1</td>\n",
       "      <td>b046940f-1664-3047-bca7-dfa76be352a4</td>\n",
       "      <td>wellness</td>\n",
       "      <td>410620009</td>\n",
       "      <td>Well child visit (procedure)</td>\n",
       "      <td>133.36</td>\n",
       "      <td>269.36</td>\n",
       "      <td>0.0</td>\n",
       "      <td>NaN</td>\n",
       "      <td>None</td>\n",
       "    </tr>\n",
       "    <tr>\n",
       "      <th>2</th>\n",
       "      <td>678e03b1-21ac-fbfa-3506-17bee72a6335</td>\n",
       "      <td>2015-06-10T05:19:43Z</td>\n",
       "      <td>2015-06-10T05:34:43Z</td>\n",
       "      <td>92675303-CA5B-136A-169B-E764C5753F06</td>\n",
       "      <td>02078b23-a943-3175-b5f0-8d386dd8eb56</td>\n",
       "      <td>af22b73b-d38f-3d92-8a95-bd57ac2dc3f1</td>\n",
       "      <td>b046940f-1664-3047-bca7-dfa76be352a4</td>\n",
       "      <td>wellness</td>\n",
       "      <td>162673000</td>\n",
       "      <td>General examination of patient (procedure)</td>\n",
       "      <td>133.36</td>\n",
       "      <td>269.36</td>\n",
       "      <td>0.0</td>\n",
       "      <td>NaN</td>\n",
       "      <td>None</td>\n",
       "    </tr>\n",
       "  </tbody>\n",
       "</table>\n",
       "</div>"
      ],
      "text/plain": [
       "                                     Id                 START  \\\n",
       "0  6539c675-dcf2-cace-a90d-7f097d1799b3  2014-02-10T11:00:08Z   \n",
       "1  748a443c-9819-4f3a-8648-0096ace6d3fd  2014-06-04T05:19:43Z   \n",
       "2  678e03b1-21ac-fbfa-3506-17bee72a6335  2015-06-10T05:19:43Z   \n",
       "\n",
       "                   STOP                               PATIENT  \\\n",
       "0  2014-02-10T11:15:08Z  54F1059E-6250-3949-6DD0-1DDA9B85D22A   \n",
       "1  2014-06-04T05:34:43Z  92675303-CA5B-136A-169B-E764C5753F06   \n",
       "2  2015-06-10T05:34:43Z  92675303-CA5B-136A-169B-E764C5753F06   \n",
       "\n",
       "                           ORGANIZATION                              PROVIDER  \\\n",
       "0  ef42ec52-a1c1-3fc5-8e52-da46f7f3970c  35088bec-f756-35d8-8140-b2b017c0eacc   \n",
       "1  02078b23-a943-3175-b5f0-8d386dd8eb56  af22b73b-d38f-3d92-8a95-bd57ac2dc3f1   \n",
       "2  02078b23-a943-3175-b5f0-8d386dd8eb56  af22b73b-d38f-3d92-8a95-bd57ac2dc3f1   \n",
       "\n",
       "                                  PAYER ENCOUNTERCLASS       CODE  \\\n",
       "0  8fa6c185-e44e-3e34-8bd8-39be8694f4ce       wellness  410620009   \n",
       "1  b046940f-1664-3047-bca7-dfa76be352a4       wellness  410620009   \n",
       "2  b046940f-1664-3047-bca7-dfa76be352a4       wellness  162673000   \n",
       "\n",
       "                                  DESCRIPTION  BASE_ENCOUNTER_COST  \\\n",
       "0                Well child visit (procedure)               133.36   \n",
       "1                Well child visit (procedure)               133.36   \n",
       "2  General examination of patient (procedure)               133.36   \n",
       "\n",
       "   TOTAL_CLAIM_COST  PAYER_COVERAGE  REASONCODE REASONDESCRIPTION  \n",
       "0            405.36             0.0         NaN              None  \n",
       "1            269.36             0.0         NaN              None  \n",
       "2            269.36             0.0         NaN              None  "
      ]
     },
     "execution_count": 4,
     "metadata": {},
     "output_type": "execute_result"
    }
   ],
   "source": [
    "df_encounters = gx.read_parquet(\"airflow/data/encounters.parquet\")\n",
    "df_encounters.head(3)"
   ]
  },
  {
   "cell_type": "code",
   "execution_count": 27,
   "id": "f7031254-0ea2-4811-ae91-461fa7359167",
   "metadata": {},
   "outputs": [
    {
     "data": {
      "text/plain": [
       "Index(['Id', 'START', 'STOP', 'PATIENT', 'ORGANIZATION', 'PROVIDER', 'PAYER',\n",
       "       'ENCOUNTERCLASS', 'CODE', 'DESCRIPTION', 'BASE_ENCOUNTER_COST',\n",
       "       'TOTAL_CLAIM_COST', 'PAYER_COVERAGE', 'REASONCODE',\n",
       "       'REASONDESCRIPTION'],\n",
       "      dtype='object')"
      ]
     },
     "execution_count": 27,
     "metadata": {},
     "output_type": "execute_result"
    }
   ],
   "source": [
    "df_encounters.columns"
   ]
  },
  {
   "cell_type": "code",
   "execution_count": 5,
   "id": "3f5a5cdb-e05b-44c9-aaac-b30492647f74",
   "metadata": {},
   "outputs": [
    {
     "data": {
      "text/html": [
       "<div>\n",
       "<style scoped>\n",
       "    .dataframe tbody tr th:only-of-type {\n",
       "        vertical-align: middle;\n",
       "    }\n",
       "\n",
       "    .dataframe tbody tr th {\n",
       "        vertical-align: top;\n",
       "    }\n",
       "\n",
       "    .dataframe thead th {\n",
       "        text-align: right;\n",
       "    }\n",
       "</style>\n",
       "<table border=\"1\" class=\"dataframe\">\n",
       "  <thead>\n",
       "    <tr style=\"text-align: right;\">\n",
       "      <th></th>\n",
       "      <th>START</th>\n",
       "      <th>STOP</th>\n",
       "      <th>PATIENT</th>\n",
       "      <th>PAYER</th>\n",
       "      <th>ENCOUNTER</th>\n",
       "      <th>CODE</th>\n",
       "      <th>DESCRIPTION</th>\n",
       "      <th>BASE_COST</th>\n",
       "      <th>PAYER_COVERAGE</th>\n",
       "      <th>DISPENSES</th>\n",
       "      <th>TOTALCOST</th>\n",
       "      <th>REASONCODE</th>\n",
       "      <th>REASONDESCRIPTION</th>\n",
       "    </tr>\n",
       "  </thead>\n",
       "  <tbody>\n",
       "    <tr>\n",
       "      <th>0</th>\n",
       "      <td>2020-04-22T02:47:09Z</td>\n",
       "      <td>NaN</td>\n",
       "      <td>28d7b56c-6056-d0a2-2991-39d6e917216c</td>\n",
       "      <td>0133f751-9229-3cfd-815f-b6d4979bdd6a</td>\n",
       "      <td>402DFAEB-1888-F562-4651-F75203EB1E28</td>\n",
       "      <td>849574</td>\n",
       "      <td>Naproxen sodium 220 MG Oral Tablet</td>\n",
       "      <td>274.28</td>\n",
       "      <td>0.0</td>\n",
       "      <td>45</td>\n",
       "      <td>12342.60</td>\n",
       "      <td>200936003.0</td>\n",
       "      <td>Lupus erythematosus</td>\n",
       "    </tr>\n",
       "    <tr>\n",
       "      <th>1</th>\n",
       "      <td>2020-04-22T02:47:09Z</td>\n",
       "      <td>2020-05-17T02:47:09Z</td>\n",
       "      <td>28d7b56c-6056-d0a2-2991-39d6e917216c</td>\n",
       "      <td>0133f751-9229-3cfd-815f-b6d4979bdd6a</td>\n",
       "      <td>402DFAEB-1888-F562-4651-F75203EB1E28</td>\n",
       "      <td>312615</td>\n",
       "      <td>predniSONE 20 MG Oral Tablet</td>\n",
       "      <td>16.04</td>\n",
       "      <td>0.0</td>\n",
       "      <td>1</td>\n",
       "      <td>16.04</td>\n",
       "      <td>200936003.0</td>\n",
       "      <td>Lupus erythematosus</td>\n",
       "    </tr>\n",
       "    <tr>\n",
       "      <th>2</th>\n",
       "      <td>2021-08-01T02:47:09Z</td>\n",
       "      <td>2021-08-15T02:47:09Z</td>\n",
       "      <td>28d7b56c-6056-d0a2-2991-39d6e917216c</td>\n",
       "      <td>0133f751-9229-3cfd-815f-b6d4979bdd6a</td>\n",
       "      <td>FBC2F3B3-AB93-707E-AD9E-337990345F32</td>\n",
       "      <td>241834</td>\n",
       "      <td>cycloSPORINE  modified 100 MG Oral Capsule</td>\n",
       "      <td>473.61</td>\n",
       "      <td>0.0</td>\n",
       "      <td>1</td>\n",
       "      <td>473.61</td>\n",
       "      <td>200936003.0</td>\n",
       "      <td>Lupus erythematosus</td>\n",
       "    </tr>\n",
       "  </tbody>\n",
       "</table>\n",
       "</div>"
      ],
      "text/plain": [
       "                  START                  STOP  \\\n",
       "0  2020-04-22T02:47:09Z                   NaN   \n",
       "1  2020-04-22T02:47:09Z  2020-05-17T02:47:09Z   \n",
       "2  2021-08-01T02:47:09Z  2021-08-15T02:47:09Z   \n",
       "\n",
       "                                PATIENT                                 PAYER  \\\n",
       "0  28d7b56c-6056-d0a2-2991-39d6e917216c  0133f751-9229-3cfd-815f-b6d4979bdd6a   \n",
       "1  28d7b56c-6056-d0a2-2991-39d6e917216c  0133f751-9229-3cfd-815f-b6d4979bdd6a   \n",
       "2  28d7b56c-6056-d0a2-2991-39d6e917216c  0133f751-9229-3cfd-815f-b6d4979bdd6a   \n",
       "\n",
       "                              ENCOUNTER    CODE  \\\n",
       "0  402DFAEB-1888-F562-4651-F75203EB1E28  849574   \n",
       "1  402DFAEB-1888-F562-4651-F75203EB1E28  312615   \n",
       "2  FBC2F3B3-AB93-707E-AD9E-337990345F32  241834   \n",
       "\n",
       "                                  DESCRIPTION  BASE_COST  PAYER_COVERAGE  \\\n",
       "0          Naproxen sodium 220 MG Oral Tablet     274.28             0.0   \n",
       "1                predniSONE 20 MG Oral Tablet      16.04             0.0   \n",
       "2  cycloSPORINE  modified 100 MG Oral Capsule     473.61             0.0   \n",
       "\n",
       "   DISPENSES  TOTALCOST   REASONCODE    REASONDESCRIPTION  \n",
       "0         45   12342.60  200936003.0  Lupus erythematosus  \n",
       "1          1      16.04  200936003.0  Lupus erythematosus  \n",
       "2          1     473.61  200936003.0  Lupus erythematosus  "
      ]
     },
     "execution_count": 5,
     "metadata": {},
     "output_type": "execute_result"
    }
   ],
   "source": [
    "df_medications = gx.read_csv(\"airflow/data/medications.csv\")\n",
    "df_medications.head(3)"
   ]
  },
  {
   "cell_type": "code",
   "execution_count": 29,
   "id": "5379941a-5f5e-4df9-ba79-053a4ca215a7",
   "metadata": {},
   "outputs": [
    {
     "data": {
      "text/plain": [
       "Index(['START', 'STOP', 'PATIENT', 'PAYER', 'ENCOUNTER', 'CODE', 'DESCRIPTION',\n",
       "       'BASE_COST', 'PAYER_COVERAGE', 'DISPENSES', 'TOTALCOST', 'REASONCODE',\n",
       "       'REASONDESCRIPTION'],\n",
       "      dtype='object')"
      ]
     },
     "execution_count": 29,
     "metadata": {},
     "output_type": "execute_result"
    }
   ],
   "source": [
    "df_medications.columns"
   ]
  },
  {
   "cell_type": "code",
   "execution_count": 6,
   "id": "4a86dd18-aa69-4939-98e5-1e6b1ae6cac1",
   "metadata": {},
   "outputs": [
    {
     "data": {
      "text/html": [
       "<div>\n",
       "<style scoped>\n",
       "    .dataframe tbody tr th:only-of-type {\n",
       "        vertical-align: middle;\n",
       "    }\n",
       "\n",
       "    .dataframe tbody tr th {\n",
       "        vertical-align: top;\n",
       "    }\n",
       "\n",
       "    .dataframe thead th {\n",
       "        text-align: right;\n",
       "    }\n",
       "</style>\n",
       "<table border=\"1\" class=\"dataframe\">\n",
       "  <thead>\n",
       "    <tr style=\"text-align: right;\">\n",
       "      <th></th>\n",
       "      <th>PATIENT</th>\n",
       "      <th>GENDER</th>\n",
       "      <th>RACE</th>\n",
       "      <th>ETHNICITY</th>\n",
       "      <th>AGE_BEGIN</th>\n",
       "      <th>AGE_END</th>\n",
       "      <th>PATHOLOGY</th>\n",
       "      <th>NUM_SYMPTOMS</th>\n",
       "      <th>SYMPTOMS</th>\n",
       "    </tr>\n",
       "  </thead>\n",
       "  <tbody>\n",
       "    <tr>\n",
       "      <th>0</th>\n",
       "      <td>28d7b56c-6056-d0a2-2991-39d6e917216c</td>\n",
       "      <td>NaN</td>\n",
       "      <td>white</td>\n",
       "      <td>hispanic</td>\n",
       "      <td>26</td>\n",
       "      <td>NaN</td>\n",
       "      <td>Lupus erythematosus</td>\n",
       "      <td>4</td>\n",
       "      <td>Rash:34;Joint Pain:39;Fatigue:9;Fever:12</td>\n",
       "    </tr>\n",
       "    <tr>\n",
       "      <th>1</th>\n",
       "      <td>6c434506-fb4b-3e3f-c19d-553dec3b6c17</td>\n",
       "      <td>NaN</td>\n",
       "      <td>black</td>\n",
       "      <td>hispanic</td>\n",
       "      <td>58</td>\n",
       "      <td>NaN</td>\n",
       "      <td>Lupus erythematosus</td>\n",
       "      <td>4</td>\n",
       "      <td>Rash:19;Joint Pain:44;Fatigue:48;Fever:15</td>\n",
       "    </tr>\n",
       "    <tr>\n",
       "      <th>2</th>\n",
       "      <td>44a8ca45-6c6e-38bb-fac0-ddbf7a7ee3a4</td>\n",
       "      <td>NaN</td>\n",
       "      <td>white</td>\n",
       "      <td>nonhispanic</td>\n",
       "      <td>50</td>\n",
       "      <td>NaN</td>\n",
       "      <td>Lupus erythematosus</td>\n",
       "      <td>4</td>\n",
       "      <td>Rash:2;Joint Pain:32;Fatigue:12;Fever:6</td>\n",
       "    </tr>\n",
       "  </tbody>\n",
       "</table>\n",
       "</div>"
      ],
      "text/plain": [
       "                                PATIENT  GENDER   RACE    ETHNICITY  \\\n",
       "0  28d7b56c-6056-d0a2-2991-39d6e917216c     NaN  white     hispanic   \n",
       "1  6c434506-fb4b-3e3f-c19d-553dec3b6c17     NaN  black     hispanic   \n",
       "2  44a8ca45-6c6e-38bb-fac0-ddbf7a7ee3a4     NaN  white  nonhispanic   \n",
       "\n",
       "   AGE_BEGIN  AGE_END            PATHOLOGY  NUM_SYMPTOMS  \\\n",
       "0         26      NaN  Lupus erythematosus             4   \n",
       "1         58      NaN  Lupus erythematosus             4   \n",
       "2         50      NaN  Lupus erythematosus             4   \n",
       "\n",
       "                                    SYMPTOMS  \n",
       "0   Rash:34;Joint Pain:39;Fatigue:9;Fever:12  \n",
       "1  Rash:19;Joint Pain:44;Fatigue:48;Fever:15  \n",
       "2    Rash:2;Joint Pain:32;Fatigue:12;Fever:6  "
      ]
     },
     "execution_count": 6,
     "metadata": {},
     "output_type": "execute_result"
    }
   ],
   "source": [
    "df_symptoms = gx.read_csv(\"airflow/data/symptoms.csv\")\n",
    "df_symptoms.head(3)"
   ]
  },
  {
   "cell_type": "code",
   "execution_count": 31,
   "id": "0302b915-35e2-42da-b582-b5f59c844cde",
   "metadata": {},
   "outputs": [
    {
     "data": {
      "text/plain": [
       "Index(['PATIENT', 'GENDER', 'RACE', 'ETHNICITY', 'AGE_BEGIN', 'AGE_END',\n",
       "       'PATHOLOGY', 'NUM_SYMPTOMS', 'SYMPTOMS'],\n",
       "      dtype='object')"
      ]
     },
     "execution_count": 31,
     "metadata": {},
     "output_type": "execute_result"
    }
   ],
   "source": [
    "df_symptoms.columns"
   ]
  },
  {
   "cell_type": "markdown",
   "id": "455e2643-33e4-406e-a834-2df26eabbc49",
   "metadata": {
    "jp-MarkdownHeadingCollapsed": true
   },
   "source": [
    "## EDA and Data Validation using Great Expectations"
   ]
  },
  {
   "cell_type": "code",
   "execution_count": 57,
   "id": "320819cd-cb1c-409c-92ac-05d6caa6127e",
   "metadata": {},
   "outputs": [
    {
     "data": {
      "text/plain": [
       "'\\n    We have 5 datasets in five different data frames\\n        df_patients\\n        df_conditions\\n        df_encounters\\n        df_medications\\n        df_symptoms\\n    \\n    Please note I am doing EDA and Data Validation on df_patients only. The same mechanism can be used for other four data sets. \\n'"
      ]
     },
     "execution_count": 57,
     "metadata": {},
     "output_type": "execute_result"
    }
   ],
   "source": [
    "\"\"\"\n",
    "    We have 5 datasets in five different data frames\n",
    "        df_patients\n",
    "        df_conditions\n",
    "        df_encounters\n",
    "        df_medications\n",
    "        df_symptoms\n",
    "    \n",
    "    Please note I am doing EDA and Data Validation on df_patients only. The same mechanism can be used for other four data sets,\n",
    "    though there will be a little difference in implementation but the core concept remains same\n",
    "\"\"\""
   ]
  },
  {
   "cell_type": "markdown",
   "id": "d8b16547-c0a4-458f-8cff-c5519ae2cf3c",
   "metadata": {},
   "source": [
    "### EDA on patients data"
   ]
  },
  {
   "cell_type": "code",
   "execution_count": 38,
   "id": "76ba94e1-e52f-4f17-8cb0-e1468d9a8c83",
   "metadata": {},
   "outputs": [
    {
     "name": "stdout",
     "output_type": "stream",
     "text": [
      "<class 'great_expectations.dataset.pandas_dataset.PandasDataset'>\n",
      "RangeIndex: 10000 entries, 0 to 9999\n",
      "Data columns (total 27 columns):\n",
      " #   Column               Non-Null Count  Dtype  \n",
      "---  ------               --------------  -----  \n",
      " 0   PATIENT_ID           10000 non-null  object \n",
      " 1   BIRTHDATE            10000 non-null  object \n",
      " 2   DEATHDATE            0 non-null      float64\n",
      " 3   SSN                  10000 non-null  object \n",
      " 4   DRIVERS              7680 non-null   object \n",
      " 5   PASSPORT             7039 non-null   object \n",
      " 6   PREFIX               7337 non-null   object \n",
      " 7   FIRST                10000 non-null  object \n",
      " 8   LAST                 10000 non-null  object \n",
      " 9   SUFFIX               59 non-null     object \n",
      " 10  MAIDEN               2352 non-null   object \n",
      " 11  MARITAL              5854 non-null   object \n",
      " 12  RACE                 10000 non-null  object \n",
      " 13  ETHNICITY            10000 non-null  object \n",
      " 14  GENDER               0 non-null      float64\n",
      " 15  BIRTHPLACE           10000 non-null  object \n",
      " 16  ADDRESS              10000 non-null  object \n",
      " 17  CITY                 10000 non-null  object \n",
      " 18  STATE                10000 non-null  object \n",
      " 19  COUNTY               10000 non-null  object \n",
      " 20  FIPS                 9710 non-null   float64\n",
      " 21  ZIP                  10000 non-null  int64  \n",
      " 22  LAT                  10000 non-null  float64\n",
      " 23  LON                  10000 non-null  float64\n",
      " 24  HEALTHCARE_EXPENSES  10000 non-null  float64\n",
      " 25  HEALTHCARE_COVERAGE  10000 non-null  float64\n",
      " 26  INCOME               10000 non-null  int64  \n",
      "dtypes: float64(7), int64(2), object(18)\n",
      "memory usage: 2.1+ MB\n"
     ]
    }
   ],
   "source": [
    "# check data types non null counts of each column\n",
    "df_patients.info()"
   ]
  },
  {
   "cell_type": "code",
   "execution_count": 43,
   "id": "ec040d62-42d2-4e53-9f8c-34bf5b92df26",
   "metadata": {},
   "outputs": [
    {
     "name": "stdout",
     "output_type": "stream",
     "text": [
      "       DEATHDATE  GENDER          FIPS           ZIP           LAT  \\\n",
      "count        0.0     0.0   9710.000000  10000.000000  10000.000000   \n",
      "mean         NaN     NaN  48188.824717  74947.406200      0.309868   \n",
      "std          NaN     NaN    690.565166  13036.344689      0.020044   \n",
      "min          NaN     NaN  35013.000000      0.000000      0.258876   \n",
      "25%          NaN     NaN  48113.000000  75904.000000      0.296555   \n",
      "50%          NaN     NaN  48201.000000  77099.000000      0.306608   \n",
      "75%          NaN     NaN  48355.000000  78260.000000      0.327973   \n",
      "max          NaN     NaN  48507.000000  88063.000000      0.365969   \n",
      "\n",
      "                LON  HEALTHCARE_EXPENSES  HEALTHCARE_COVERAGE        INCOME  \n",
      "count  10000.000000         10000.000000         10000.000000   10000.00000  \n",
      "mean     -97.548956         10489.406391          1817.903496   85358.40780  \n",
      "std        2.438536          5256.509164          2462.371193  141329.22638  \n",
      "min     -106.646755           100.000000             0.000000 -986794.00000  \n",
      "25%      -98.195686          6889.780000             0.000000   25129.25000  \n",
      "50%      -97.126683         10761.620000             0.000000   51009.50000  \n",
      "75%      -95.921881         13374.712500          3578.720000   94730.75000  \n",
      "max      -93.752308         27627.160000         10808.450000  998831.00000  \n",
      "       HEALTHCARE_EXPENSES  HEALTHCARE_COVERAGE\n",
      "count         10000.000000         10000.000000\n",
      "mean          10489.406391          1817.903496\n",
      "std            5256.509164          2462.371193\n",
      "min             100.000000             0.000000\n",
      "25%            6889.780000             0.000000\n",
      "50%           10761.620000             0.000000\n",
      "75%           13374.712500          3578.720000\n",
      "max           27627.160000         10808.450000\n"
     ]
    }
   ],
   "source": [
    "# Check the statistical summary though it is usable on a few cols like INCOME, HEALTHCARE_COVERAGE.\n",
    "print(df_patients.describe())\n",
    "\n",
    "# We can get statistics data frame of usable cols into another dataframe\n",
    "df_stat_patients = df_patients.describe()[['HEALTHCARE_EXPENSES', 'HEALTHCARE_COVERAGE']]\n",
    "print(df_stat_patients)\n"
   ]
  },
  {
   "cell_type": "code",
   "execution_count": 50,
   "id": "cb9612aa-b0b0-4ca5-906b-befe5d7e22b0",
   "metadata": {},
   "outputs": [
    {
     "name": "stdout",
     "output_type": "stream",
     "text": [
      "PATIENT_ID                 0\n",
      "BIRTHDATE                  0\n",
      "DEATHDATE              10000\n",
      "SSN                        0\n",
      "DRIVERS                 2320\n",
      "PASSPORT                2961\n",
      "PREFIX                  2663\n",
      "FIRST                      0\n",
      "LAST                       0\n",
      "SUFFIX                  9941\n",
      "MAIDEN                  7648\n",
      "MARITAL                 4146\n",
      "RACE                       0\n",
      "ETHNICITY                  0\n",
      "GENDER                 10000\n",
      "BIRTHPLACE                 0\n",
      "ADDRESS                    0\n",
      "CITY                       0\n",
      "STATE                      0\n",
      "COUNTY                     0\n",
      "FIPS                     290\n",
      "ZIP                        0\n",
      "LAT                        0\n",
      "LON                        0\n",
      "HEALTHCARE_EXPENSES        0\n",
      "HEALTHCARE_COVERAGE        0\n",
      "INCOME                     0\n",
      "dtype: int64\n",
      "0\n"
     ]
    }
   ],
   "source": [
    "# Check for missing values on each column\n",
    "print(df_patients.isnull().sum())\n",
    "\n",
    "# Check for missing values for a perticular column. \n",
    "#I am choosing PATIENE_ID because if i use any open RDBMS like postgressql then I have make sure PATIENE_ID is not null\n",
    "print(df_patients['PATIENT_ID'].isnull().sum())"
   ]
  },
  {
   "cell_type": "code",
   "execution_count": 53,
   "id": "e5faeb5b-2c5d-43db-8f03-6f300148bc57",
   "metadata": {},
   "outputs": [
    {
     "name": "stdout",
     "output_type": "stream",
     "text": [
      "0\n"
     ]
    }
   ],
   "source": [
    "# Check for duplicates for a perticular column \n",
    "# Again I am chosing PATIENT_ID because if i use any open RDBMS like postgressql then I have make sure PATIENE_ID is unique\n",
    "print(df_patients['PATIENT_ID'].duplicated().sum())"
   ]
  },
  {
   "cell_type": "code",
   "execution_count": 56,
   "id": "db03520a-16a5-4475-92f8-29512119f1d1",
   "metadata": {},
   "outputs": [
    {
     "name": "stdout",
     "output_type": "stream",
     "text": [
      "Series([], Name: count, dtype: int64)\n"
     ]
    }
   ],
   "source": [
    "# Check uniqueness in categorical cols\n",
    "# The output suggests that GENDER col has null values\n",
    "print(df_patients['GENDER'].value_counts())"
   ]
  },
  {
   "cell_type": "code",
   "execution_count": null,
   "id": "7f56ba18-8888-4252-b5db-8b099797b341",
   "metadata": {},
   "outputs": [],
   "source": [
    "\"\"\"\n",
    "    Issues found after performing basic level of EDA on Patients data\n",
    "        a. type of DEATHDATE and GENDER is float64 and the type of DEATHDATE and GENDER should be data and string respectively\n",
    "        b. Many columns like DRIVER, and PASPORT have null values, though it is acceptable.\n",
    "        c. GENDER col has null values, though it not not a key and not linked to other tables but it the data incorectness.\n",
    "        d. Data type of INCOME feature is int that should have been float\n",
    "        e. there is no PK in Symptoms (Observations)\n",
    "    \n",
    "    WE can found similar or other type of issues in other data sets when we perform EDA on them. \n",
    "\"\"\""
   ]
  },
  {
   "cell_type": "code",
   "execution_count": 66,
   "id": "d7ee8606-ec51-4d65-bd71-9eb7c8aa1caf",
   "metadata": {},
   "outputs": [
    {
     "data": {
      "text/plain": [
       "<Axes: >"
      ]
     },
     "execution_count": 66,
     "metadata": {},
     "output_type": "execute_result"
    },
    {
     "data": {
      "image/png": "[encoded data removed]",
      "text/plain": [
       "<Figure size 640x480 with 1 Axes>"
      ]
     },
     "metadata": {},
     "output_type": "display_data"
    }
   ],
   "source": [
    "# We can aslo do the basis level of plotting to visualize the data\n",
    "\n",
    "import matplotlib.pyplot as plt\n",
    "\n",
    "# The following flot shows the distribution of health care expenses of whole patients\n",
    "df_patients['HEALTHCARE_EXPENSES'].hist()\n"
   ]
  },
  {
   "cell_type": "code",
   "execution_count": 71,
   "id": "74a1a3e0-6112-4922-b048-7a1bf5899845",
   "metadata": {},
   "outputs": [
    {
     "data": {
      "image/png": "[encoded data removed]",
      "text/plain": [
       "<Figure size 640x480 with 1 Axes>"
      ]
     },
     "metadata": {},
     "output_type": "display_data"
    }
   ],
   "source": [
    "# compare the income and healthcare expenses of a perticular patient\n",
    "\n",
    "# Filter out the data of perticualar patient\n",
    "patient_id = \"54f1059e-6250-3949-6dd0-1dda9b85d22a\"\n",
    "pat_data = df_patients[df_patients['PATIENT_ID'] == patient_id]\n",
    "# print(pat_data)\n",
    "\n",
    "income = pat_data['INCOME'].values[0]\n",
    "healthcare_expenses = pat_data['HEALTHCARE_EXPENSES'].values[0]\n",
    "\n",
    "# Create a bar plot to compare income and healthcare expenses\n",
    "fig, ax = plt.subplots()\n",
    "ax.bar(['Income', 'Healthcare Expenses'], [income, healthcare_expenses])\n",
    "ax.set_ylabel('Amount')\n",
    "ax.set_title('Comparison of Income and Healthcare Expenses for Patient ' + patient_id)\n",
    "plt.show()"
   ]
  },
  {
   "cell_type": "markdown",
   "id": "b1807dce-e002-49d7-affd-c08c8a3fc7d1",
   "metadata": {},
   "source": [
    "### Define and Check data corectness on patients data using great expectations"
   ]
  },
  {
   "cell_type": "code",
   "execution_count": 89,
   "id": "65f8fa8c-7c51-4ad7-85f9-73ef479276bc",
   "metadata": {},
   "outputs": [
    {
     "data": {
      "text/plain": [
       "Index(['PATIENT_ID', 'BIRTHDATE', 'DEATHDATE', 'SSN', 'DRIVERS', 'PASSPORT',\n",
       "       'PREFIX', 'FIRST', 'LAST', 'SUFFIX', 'MAIDEN', 'MARITAL', 'RACE',\n",
       "       'ETHNICITY', 'GENDER', 'BIRTHPLACE', 'ADDRESS', 'CITY', 'STATE',\n",
       "       'COUNTY', 'FIPS', 'ZIP', 'LAT', 'LON', 'HEALTHCARE_EXPENSES',\n",
       "       'HEALTHCARE_COVERAGE', 'INCOME'],\n",
       "      dtype='object')"
      ]
     },
     "execution_count": 89,
     "metadata": {},
     "output_type": "execute_result"
    }
   ],
   "source": [
    "df_patients.columns"
   ]
  },
  {
   "cell_type": "code",
   "execution_count": 102,
   "id": "230f6c86-8f73-415e-acc1-8ecf847d27a4",
   "metadata": {},
   "outputs": [
    {
     "data": {
      "text/plain": [
       "0        9990.08\n",
       "1       10936.80\n",
       "2       10662.16\n",
       "3       11455.93\n",
       "4       12449.11\n",
       "          ...   \n",
       "9995    14358.74\n",
       "9996    18605.74\n",
       "9997    10632.01\n",
       "9998    11431.06\n",
       "9999    19529.91\n",
       "Name: HEALTHCARE_EXPENSES, Length: 10000, dtype: float64"
      ]
     },
     "execution_count": 102,
     "metadata": {},
     "output_type": "execute_result"
    }
   ],
   "source": [
    "df_patients[\"HEALTHCARE_EXPENSES\"]"
   ]
  },
  {
   "cell_type": "code",
   "execution_count": 77,
   "id": "330fd1d6-30a6-4944-a494-e187dc614ac4",
   "metadata": {},
   "outputs": [
    {
     "data": {
      "text/plain": [
       "{\n",
       "  \"success\": true,\n",
       "  \"result\": {\n",
       "    \"element_count\": 10000,\n",
       "    \"missing_count\": 0,\n",
       "    \"missing_percent\": 0.0,\n",
       "    \"unexpected_count\": 0,\n",
       "    \"unexpected_percent\": 0.0,\n",
       "    \"unexpected_percent_total\": 0.0,\n",
       "    \"unexpected_percent_nonmissing\": 0.0,\n",
       "    \"partial_unexpected_list\": []\n",
       "  },\n",
       "  \"meta\": {},\n",
       "  \"exception_info\": {\n",
       "    \"raised_exception\": false,\n",
       "    \"exception_traceback\": null,\n",
       "    \"exception_message\": null\n",
       "  }\n",
       "}"
      ]
     },
     "execution_count": 77,
     "metadata": {},
     "output_type": "execute_result"
    }
   ],
   "source": [
    "# Defnine Uniqueness expectation on PATIENT_ID as it is PK\n",
    "df_patients.expect_column_values_to_be_unique(\"PATIENT_ID\")"
   ]
  },
  {
   "cell_type": "code",
   "execution_count": 87,
   "id": "49886506-66f3-4d9c-88a9-d6d2e29b7d5f",
   "metadata": {},
   "outputs": [
    {
     "data": {
      "text/plain": [
       "{\n",
       "  \"success\": false,\n",
       "  \"result\": {\n",
       "    \"element_count\": 10000,\n",
       "    \"unexpected_count\": 10000,\n",
       "    \"unexpected_percent\": 100.0,\n",
       "    \"unexpected_percent_total\": 100.0,\n",
       "    \"partial_unexpected_list\": []\n",
       "  },\n",
       "  \"meta\": {},\n",
       "  \"exception_info\": {\n",
       "    \"raised_exception\": false,\n",
       "    \"exception_traceback\": null,\n",
       "    \"exception_message\": null\n",
       "  }\n",
       "}"
      ]
     },
     "execution_count": 87,
     "metadata": {},
     "output_type": "execute_result"
    }
   ],
   "source": [
    "# GENDER column should have three categorical values and it should be not null\n",
    "\n",
    "df_patients.expect_column_values_to_be_in_set(\"GENDER\", [\"Male\", \"Female\", \"Other\"])\n",
    "df_patients.expect_column_values_to_not_be_null(\"GENDER\")"
   ]
  },
  {
   "cell_type": "code",
   "execution_count": 98,
   "id": "426db25b-74a1-4f0c-962d-30cd01430c06",
   "metadata": {},
   "outputs": [
    {
     "data": {
      "text/plain": [
       "{\n",
       "  \"success\": false,\n",
       "  \"result\": {\n",
       "    \"element_count\": 10000,\n",
       "    \"missing_count\": 0,\n",
       "    \"missing_percent\": 0.0,\n",
       "    \"unexpected_count\": 290,\n",
       "    \"unexpected_percent\": 2.9000000000000004,\n",
       "    \"unexpected_percent_total\": 2.9000000000000004,\n",
       "    \"unexpected_percent_nonmissing\": 2.9000000000000004,\n",
       "    \"partial_unexpected_list\": [\n",
       "      0,\n",
       "      0,\n",
       "      0,\n",
       "      0,\n",
       "      0,\n",
       "      0,\n",
       "      0,\n",
       "      0,\n",
       "      0,\n",
       "      0,\n",
       "      0,\n",
       "      0,\n",
       "      0,\n",
       "      0,\n",
       "      0,\n",
       "      0,\n",
       "      0,\n",
       "      0,\n",
       "      0,\n",
       "      0\n",
       "    ]\n",
       "  },\n",
       "  \"meta\": {},\n",
       "  \"exception_info\": {\n",
       "    \"raised_exception\": false,\n",
       "    \"exception_traceback\": null,\n",
       "    \"exception_message\": null\n",
       "  }\n",
       "}"
      ]
     },
     "execution_count": 98,
     "metadata": {},
     "output_type": "execute_result"
    }
   ],
   "source": [
    "# Type of zip should be int and it should be a 5-digit number\n",
    "\n",
    "df_patients.expect_column_values_to_be_of_type(\"ZIP\", 'int64')\n",
    "df_patients.expect_column_values_to_match_regex(\"ZIP\", r\"^\\d{5}$\")"
   ]
  },
  {
   "cell_type": "code",
   "execution_count": 104,
   "id": "645ba027-f306-4eb1-acef-bfa3d43bbe64",
   "metadata": {},
   "outputs": [
    {
     "data": {
      "text/plain": [
       "{\n",
       "  \"success\": false,\n",
       "  \"result\": {\n",
       "    \"observed_value\": \"int64\"\n",
       "  },\n",
       "  \"meta\": {},\n",
       "  \"exception_info\": {\n",
       "    \"raised_exception\": false,\n",
       "    \"exception_traceback\": null,\n",
       "    \"exception_message\": null\n",
       "  }\n",
       "}"
      ]
     },
     "execution_count": 104,
     "metadata": {},
     "output_type": "execute_result"
    }
   ],
   "source": [
    "# Columns HEALTHCARE_EXPENSES, HEALTHCARE_COVERAGE, and INCOME should be float\n",
    "df_patients.expect_column_values_to_be_of_type(\"HEALTHCARE_EXPENSES\", 'float64')\n",
    "df_patients.expect_column_values_to_be_of_type(\"HEALTHCARE_COVERAGE\", 'float64')\n",
    "df_patients.expect_column_values_to_be_of_type(\"INCOME\", 'float64')"
   ]
  },
  {
   "cell_type": "code",
   "execution_count": 124,
   "id": "0033ba27-36ff-4673-aece-a32f9f6112c5",
   "metadata": {},
   "outputs": [
    {
     "name": "stdout",
     "output_type": "stream",
     "text": [
      "{'expectation_suite_name': 'patients', 'ge_cloud_id': None, 'expectations': [{'expectation_type': 'expect_column_values_to_be_unique', 'kwargs': {'column': 'PATIENT_ID'}, 'meta': {}}, {'expectation_type': 'expect_column_distinct_values_to_be_in_set', 'kwargs': {'column': 'GENDER', 'value_set': ['Male', 'Female', 'Other']}, 'meta': {}}, {'expectation_type': 'expect_column_values_to_be_in_set', 'kwargs': {'column': 'GENDER', 'value_set': ['Male', 'Female', 'Other']}, 'meta': {}}, {'expectation_type': 'expect_column_values_to_be_of_type', 'kwargs': {'column': 'ZIP', 'type_': 'int64'}, 'meta': {}}, {'expectation_type': 'expect_column_values_to_be_of_type', 'kwargs': {'column': 'HEALTHCARE_EXPENSES', 'type_': 'float64'}, 'meta': {}}, {'expectation_type': 'expect_column_values_to_be_of_type', 'kwargs': {'column': 'HEALTHCARE_COVERAGE', 'type_': 'float64'}, 'meta': {}}], 'data_asset_type': 'Dataset', 'meta': {'great_expectations_version': '0.18.11'}}\n"
     ]
    }
   ],
   "source": [
    "# Manipulate and save json expectations of patient data\n",
    "import json\n",
    "\n",
    "# Create an expectation suite from the dataframe\n",
    "suite = df_patients.get_expectation_suite()\n",
    "# print(suite)\n",
    "\n",
    "suite.expectation_suite_name = 'patients'\n",
    "\n",
    "patient_expections = suite.to_json_dict()\n",
    "print(patient_expections)\n",
    "\n",
    "# Save the json in gx project and then update yaml file\n",
    "\n",
    "file_path = \"./gx/expectations/patients_ex_suite.json\"\n",
    "with open(file_path, \"w\") as f:\n",
    "    json.dump(patient_expections, f)"
   ]
  },
  {
   "cell_type": "code",
   "execution_count": 127,
   "id": "b9991ca7-030e-4ab6-9c64-12d9c51a86a4",
   "metadata": {},
   "outputs": [
    {
     "name": "stdout",
     "output_type": "stream",
     "text": [
      "{\n",
      "  \"success\": true,\n",
      "  \"results\": [\n",
      "    {\n",
      "      \"success\": true,\n",
      "      \"expectation_config\": {\n",
      "        \"expectation_type\": \"expect_column_values_to_be_unique\",\n",
      "        \"kwargs\": {\n",
      "          \"column\": \"PATIENT_ID\"\n",
      "        },\n",
      "        \"meta\": {}\n",
      "      },\n",
      "      \"result\": {\n",
      "        \"element_count\": 10000,\n",
      "        \"missing_count\": 0,\n",
      "        \"missing_percent\": 0.0,\n",
      "        \"unexpected_count\": 0,\n",
      "        \"unexpected_percent\": 0.0,\n",
      "        \"unexpected_percent_total\": 0.0,\n",
      "        \"unexpected_percent_nonmissing\": 0.0,\n",
      "        \"partial_unexpected_list\": []\n",
      "      },\n",
      "      \"meta\": {},\n",
      "      \"exception_info\": {\n",
      "        \"raised_exception\": false,\n",
      "        \"exception_message\": null,\n",
      "        \"exception_traceback\": null\n",
      "      }\n",
      "    },\n",
      "    {\n",
      "      \"success\": true,\n",
      "      \"expectation_config\": {\n",
      "        \"expectation_type\": \"expect_column_distinct_values_to_be_in_set\",\n",
      "        \"kwargs\": {\n",
      "          \"column\": \"GENDER\",\n",
      "          \"value_set\": [\n",
      "            \"Male\",\n",
      "            \"Female\",\n",
      "            \"Other\"\n",
      "          ]\n",
      "        },\n",
      "        \"meta\": {}\n",
      "      },\n",
      "      \"result\": {\n",
      "        \"observed_value\": [],\n",
      "        \"element_count\": 10000,\n",
      "        \"missing_count\": null,\n",
      "        \"missing_percent\": null\n",
      "      },\n",
      "      \"meta\": {},\n",
      "      \"exception_info\": {\n",
      "        \"raised_exception\": false,\n",
      "        \"exception_message\": null,\n",
      "        \"exception_traceback\": null\n",
      "      }\n",
      "    },\n",
      "    {\n",
      "      \"success\": true,\n",
      "      \"expectation_config\": {\n",
      "        \"expectation_type\": \"expect_column_values_to_be_in_set\",\n",
      "        \"kwargs\": {\n",
      "          \"column\": \"GENDER\",\n",
      "          \"value_set\": [\n",
      "            \"Male\",\n",
      "            \"Female\",\n",
      "            \"Other\"\n",
      "          ]\n",
      "        },\n",
      "        \"meta\": {}\n",
      "      },\n",
      "      \"result\": {\n",
      "        \"element_count\": 10000,\n",
      "        \"missing_count\": 10000,\n",
      "        \"missing_percent\": 100.0,\n",
      "        \"unexpected_count\": 0,\n",
      "        \"unexpected_percent\": null,\n",
      "        \"unexpected_percent_total\": null,\n",
      "        \"unexpected_percent_nonmissing\": null,\n",
      "        \"partial_unexpected_list\": []\n",
      "      },\n",
      "      \"meta\": {},\n",
      "      \"exception_info\": {\n",
      "        \"raised_exception\": false,\n",
      "        \"exception_message\": null,\n",
      "        \"exception_traceback\": null\n",
      "      }\n",
      "    },\n",
      "    {\n",
      "      \"success\": true,\n",
      "      \"expectation_config\": {\n",
      "        \"expectation_type\": \"expect_column_values_to_be_of_type\",\n",
      "        \"kwargs\": {\n",
      "          \"column\": \"ZIP\",\n",
      "          \"type_\": \"int64\"\n",
      "        },\n",
      "        \"meta\": {}\n",
      "      },\n",
      "      \"result\": {\n",
      "        \"observed_value\": \"int64\"\n",
      "      },\n",
      "      \"meta\": {},\n",
      "      \"exception_info\": {\n",
      "        \"raised_exception\": false,\n",
      "        \"exception_message\": null,\n",
      "        \"exception_traceback\": null\n",
      "      }\n",
      "    },\n",
      "    {\n",
      "      \"success\": true,\n",
      "      \"expectation_config\": {\n",
      "        \"expectation_type\": \"expect_column_values_to_be_of_type\",\n",
      "        \"kwargs\": {\n",
      "          \"column\": \"HEALTHCARE_EXPENSES\",\n",
      "          \"type_\": \"float64\"\n",
      "        },\n",
      "        \"meta\": {}\n",
      "      },\n",
      "      \"result\": {\n",
      "        \"observed_value\": \"float64\"\n",
      "      },\n",
      "      \"meta\": {},\n",
      "      \"exception_info\": {\n",
      "        \"raised_exception\": false,\n",
      "        \"exception_message\": null,\n",
      "        \"exception_traceback\": null\n",
      "      }\n",
      "    },\n",
      "    {\n",
      "      \"success\": true,\n",
      "      \"expectation_config\": {\n",
      "        \"expectation_type\": \"expect_column_values_to_be_of_type\",\n",
      "        \"kwargs\": {\n",
      "          \"column\": \"HEALTHCARE_COVERAGE\",\n",
      "          \"type_\": \"float64\"\n",
      "        },\n",
      "        \"meta\": {}\n",
      "      },\n",
      "      \"result\": {\n",
      "        \"observed_value\": \"float64\"\n",
      "      },\n",
      "      \"meta\": {},\n",
      "      \"exception_info\": {\n",
      "        \"raised_exception\": false,\n",
      "        \"exception_message\": null,\n",
      "        \"exception_traceback\": null\n",
      "      }\n",
      "    }\n",
      "  ],\n",
      "  \"evaluation_parameters\": {},\n",
      "  \"statistics\": {\n",
      "    \"evaluated_expectations\": 6,\n",
      "    \"successful_expectations\": 6,\n",
      "    \"unsuccessful_expectations\": 0,\n",
      "    \"success_percent\": 100.0\n",
      "  },\n",
      "  \"meta\": {\n",
      "    \"great_expectations_version\": \"0.18.11\",\n",
      "    \"expectation_suite_name\": \"patients\",\n",
      "    \"run_id\": {\n",
      "      \"run_name\": null,\n",
      "      \"run_time\": \"2024-03-22T11:16:06.950822+05:30\"\n",
      "    },\n",
      "    \"batch_kwargs\": {\n",
      "      \"ge_batch_id\": \"684cd6a8-e6b8-11ee-8659-cfd5eb73c15c\"\n",
      "    },\n",
      "    \"batch_markers\": {},\n",
      "    \"batch_parameters\": {},\n",
      "    \"validation_time\": \"20240322T054606.950543Z\",\n",
      "    \"expectation_suite_meta\": {\n",
      "      \"great_expectations_version\": \"0.18.11\"\n",
      "    }\n",
      "  }\n",
      "}\n"
     ]
    }
   ],
   "source": [
    "# Validate Expectations\n",
    "\n",
    "from great_expectations import read_json\n",
    "\n",
    "# suite = read_json(\"./gx/expectations/patients_ex_suite.json\")\n",
    "result = df_patients.validate(expectation_suite=patient_expections)\n",
    "\n",
    "print(result)"
   ]
  },
  {
   "cell_type": "markdown",
   "id": "e2a94bde-9c6f-47c5-bdfe-31351741e6c2",
   "metadata": {},
   "source": [
    "# Data Analysis on Merged Data"
   ]
  },
  {
   "cell_type": "code",
   "execution_count": 60,
   "id": "3317b79e-5bcd-4875-8fd8-1980f7b3de80",
   "metadata": {},
   "outputs": [
    {
     "data": {
      "text/plain": [
       "Index(['patient_id', 'birth_date', 'death_date', 'first_name', 'last_name',\n",
       "       'race', 'ethnicity', 'sex', 'address', 'city', 'state', 'county',\n",
       "       'fips_code', 'zip_code', 'latitude', 'longitude', 'recorded_date',\n",
       "       'resolved_date', 'encounter_id_x', 'source_code',\n",
       "       'source_description_x', 'encounter_id_y', 'encounter_start_date',\n",
       "       'encounter_end_date', 'attending_provider_id', 'encounter_type',\n",
       "       'admit_source_code', 'admit_source_description', 'charge_amount',\n",
       "       'allowed_amount', 'paid_amount', 'ms_drg_code', 'ms_drg_description',\n",
       "       'dispensing_date', 'prescribing_date', 'encounter_id', 'medication_id',\n",
       "       'source_description_y', 'practitioner_id', 'observation_id'],\n",
       "      dtype='object')"
      ]
     },
     "execution_count": 60,
     "metadata": {},
     "output_type": "execute_result"
    }
   ],
   "source": [
    "# Read the merged data\n",
    "import pandas as pd\n",
    "import matplotlib.pyplot as plt\n",
    "data = gx.read_csv(\"airflow/processed_data/merged_data.csv\")\n",
    "data.columns"
   ]
  },
  {
   "cell_type": "code",
   "execution_count": 52,
   "id": "53095f59-d3cc-46da-a0b6-0da7ad607377",
   "metadata": {},
   "outputs": [
    {
     "name": "stdout",
     "output_type": "stream",
     "text": [
      "Number of distinct patients: 10000\n"
     ]
    }
   ],
   "source": [
    "# no of patients\n",
    "num_distinct_patients = data['patient_id'].nunique()\n",
    "print(\"Number of distinct patients:\", num_distinct_patients)"
   ]
  },
  {
   "cell_type": "code",
   "execution_count": 62,
   "id": "e8aac559-0558-4f3a-8691-6ab20afa8f13",
   "metadata": {},
   "outputs": [
    {
     "data": {
      "image/png": "[encoded data removed]",
      "text/plain": [
       "<Figure size 1000x800 with 1 Axes>"
      ]
     },
     "metadata": {},
     "output_type": "display_data"
    }
   ],
   "source": [
    "# pie chart indicating the percentage of patients across each racial category and gender\n",
    "\n",
    "# Group by race and gender and count the number of patients\n",
    "grouped_data = data.groupby(['race', 'sex']).size().reset_index(name='count')\n",
    "pivot_table = grouped_data.pivot(index='race', columns='sex', values='count')\n",
    "f\n",
    "ig, ax = plt.subplots(figsize=(10, 8))\n",
    "explode = (0.1, 0) \n",
    "colors = ['lightblue', 'lightcoral']\n",
    "\n",
    "# Plot the pie chart\n",
    "for index, row in pivot_table.iterrows():\n",
    "    ax.pie(row, labels=row.index, startangle=90, colors=colors, explode=explode, autopct='%1.1f%%')\n",
    "\n",
    "ax.set_title('Percentage of Patients Across Each Racial Category and Gender')\n",
    "plt.axis('equal') \n",
    "plt.legend(title='Gender', loc='upper right', labels=['Male', 'Female'])\n",
    "plt.show()\n"
   ]
  }
 ],
 "metadata": {
  "kernelspec": {
   "display_name": "Python 3 (ipykernel)",
   "language": "python",
   "name": "python3"
  },
  "language_info": {
   "codemirror_mode": {
    "name": "ipython",
    "version": 3
   },
   "file_extension": ".py",
   "mimetype": "text/x-python",
   "name": "python",
   "nbconvert_exporter": "python",
   "pygments_lexer": "ipython3",
   "version": "3.10.12"
  }
 },
 "nbformat": 4,
 "nbformat_minor": 5
}
